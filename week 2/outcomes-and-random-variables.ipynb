{
 "cells": [
  {
   "cell_type": "markdown",
   "metadata": {},
   "source": [
    "# what is a random variable?\n",
    "    A: a random variable is a variable which value is composed of random events and cannot be predicted.\n",
    "\n",
    "# Outcome - result of an experiment\n",
    "\n",
    "# Discrete Random Variable:\n",
    "\n",
    "    - Can only take on a countable number of distinct values.\n",
    "    - These values are typically integers or whole numbers.\n",
    "    - Examples include the number of heads obtained when flipping a coin multiple times, or the number of cars passing through an intersection in a given time period.\n",
    "    - Associated with counting or whole numbers.\n",
    "    - Has a probability mass function (PMF) that assigns probabilities to each possible value.\n",
    "\n",
    "# Continuous Random Variable:\n",
    "\n",
    "    - Can take on any value within a certain range or interval.\n",
    "    - These values are typically real numbers.\n",
    "    - Examples include the height of a person or the time it takes for a car to travel a certain distance.\n",
    "    - Can take on an infinite number of possible values within a given range.\n",
    "    - Associated with measurements or quantities.\n",
    "    - Has a probability density function (PDF) that describes the likelihood of a value falling within a certain range.\n"
   ]
  },
  {
   "cell_type": "code",
   "execution_count": 1,
   "metadata": {},
   "outputs": [
    {
     "name": "stderr",
     "output_type": "stream",
     "text": [
      "/var/folders/x0/b0s4r41d0312h6mf4w2sqpfr0000gn/T/ipykernel_8932/2103741413.py:3: DeprecationWarning: \n",
      "Pyarrow will become a required dependency of pandas in the next major release of pandas (pandas 3.0),\n",
      "(to allow more performant data types, such as the Arrow string type, and better interoperability with other libraries)\n",
      "but was not found to be installed on your system.\n",
      "If this would cause problems for you,\n",
      "please provide us feedback at https://github.com/pandas-dev/pandas/issues/54466\n",
      "        \n",
      "  import pandas as pd\n"
     ]
    }
   ],
   "source": [
    "#import numpy and pandas package\n",
    "import numpy as np\n",
    "import pandas as pd"
   ]
  },
  {
   "cell_type": "code",
   "execution_count": 3,
   "metadata": {},
   "outputs": [
    {
     "name": "stdout",
     "output_type": "stream",
     "text": [
      "Sum of dice is 4\n"
     ]
    }
   ],
   "source": [
    "# roll two dice for multiple times\n",
    "die = pd.DataFrame([1, 2, 3, 4, 5, 6])\n",
    "sum_of_dice = die.sample(2, replace=True).sum().loc[0]\n",
    "print(\"Sum of dice is\", sum_of_dice)\n"
   ]
  },
  {
   "cell_type": "code",
   "execution_count": 5,
   "metadata": {},
   "outputs": [
    {
     "name": "stdout",
     "output_type": "stream",
     "text": [
      "Sum of three dices: 8\n"
     ]
    }
   ],
   "source": [
    "#now, lets create the same example but with three dices\n",
    "#np.random.seed(1)\n",
    "sum_of_dice3= die.sample(3,replace = True).sum().loc[0]\n",
    "print(\"Sum of three dices:\" , sum_of_dice3)"
   ]
  },
  {
   "cell_type": "code",
   "execution_count": 6,
   "metadata": {},
   "outputs": [],
   "source": [
    "# The following code mimics the roll dice game for 50 times. And the results are all stored into \"Result\"\n",
    "# Lets try and get the results of 50 sum of faces.\n",
    "\n",
    "trial = 50\n",
    "result = [die.sample(2, replace=True).sum().loc[0] for i in range(trial)]"
   ]
  },
  {
   "cell_type": "code",
   "execution_count": 7,
   "metadata": {},
   "outputs": [
    {
     "name": "stdout",
     "output_type": "stream",
     "text": [
      "[7, 8, 5, 9, 4, 5, 10, 9, 10, 7]\n"
     ]
    }
   ],
   "source": [
    "#print the first 10 results\n",
    "print(result[:10])"
   ]
  },
  {
   "cell_type": "code",
   "execution_count": null,
   "metadata": {},
   "outputs": [],
   "source": []
  }
 ],
 "metadata": {
  "kernelspec": {
   "display_name": "py39",
   "language": "python",
   "name": "python3"
  },
  "language_info": {
   "codemirror_mode": {
    "name": "ipython",
    "version": 3
   },
   "file_extension": ".py",
   "mimetype": "text/x-python",
   "name": "python",
   "nbconvert_exporter": "python",
   "pygments_lexer": "ipython3",
   "version": "3.9.18"
  }
 },
 "nbformat": 4,
 "nbformat_minor": 2
}
